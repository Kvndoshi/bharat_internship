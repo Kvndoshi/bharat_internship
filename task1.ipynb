{
  "nbformat": 4,
  "nbformat_minor": 0,
  "metadata": {
    "colab": {
      "provenance": []
    },
    "kernelspec": {
      "name": "python3",
      "display_name": "Python 3"
    },
    "language_info": {
      "name": "python"
    }
  },
  "cells": [
    {
      "cell_type": "code",
      "source": [
        "!pip install sklearn"
      ],
      "metadata": {
        "colab": {
          "base_uri": "https://localhost:8080/"
        },
        "id": "n1gULqqYnVRt",
        "outputId": "e3da4595-146d-4947-b52a-d8c359c9f40c"
      },
      "execution_count": 2,
      "outputs": [
        {
          "output_type": "stream",
          "name": "stdout",
          "text": [
            "Collecting sklearn\n",
            "  Downloading sklearn-0.0.post11.tar.gz (3.6 kB)\n",
            "  Preparing metadata (setup.py) ... \u001b[?25l\u001b[?25hdone\n",
            "Building wheels for collected packages: sklearn\n",
            "  Building wheel for sklearn (setup.py) ... \u001b[?25l\u001b[?25hdone\n",
            "  Created wheel for sklearn: filename=sklearn-0.0.post11-py3-none-any.whl size=2959 sha256=3eb5e10f0e9b93e31cf72de340ab68fd8e94fb23d105e0ff61f2a6e58cdd72d4\n",
            "  Stored in directory: /root/.cache/pip/wheels/aa/9c/60/f67813603a52fc35057868f1aba0003cc75b72583dcaa2c341\n",
            "Successfully built sklearn\n",
            "Installing collected packages: sklearn\n",
            "Successfully installed sklearn-0.0.post11\n"
          ]
        }
      ]
    },
    {
      "cell_type": "code",
      "execution_count": 4,
      "metadata": {
        "colab": {
          "base_uri": "https://localhost:8080/"
        },
        "id": "w5r4S8c6nF5G",
        "outputId": "4334407e-3826-4fb2-d2c8-d9410e2c7bb7"
      },
      "outputs": [
        {
          "output_type": "stream",
          "name": "stdout",
          "text": [
            "Linear Regression Mean Squared Error: 0.5558915986952442\n",
            "Epoch 1/10\n",
            "516/516 [==============================] - 2s 2ms/step - loss: 0.9311\n",
            "Epoch 2/10\n",
            "516/516 [==============================] - 1s 2ms/step - loss: 0.4039\n",
            "Epoch 3/10\n",
            "516/516 [==============================] - 1s 2ms/step - loss: 0.3714\n",
            "Epoch 4/10\n",
            "516/516 [==============================] - 1s 2ms/step - loss: 0.3588\n",
            "Epoch 5/10\n",
            "516/516 [==============================] - 1s 2ms/step - loss: 0.3520\n",
            "Epoch 6/10\n",
            "516/516 [==============================] - 1s 2ms/step - loss: 0.3330\n",
            "Epoch 7/10\n",
            "516/516 [==============================] - 1s 3ms/step - loss: 0.3211\n",
            "Epoch 8/10\n",
            "516/516 [==============================] - 2s 4ms/step - loss: 0.3215\n",
            "Epoch 9/10\n",
            "516/516 [==============================] - 2s 4ms/step - loss: 0.3069\n",
            "Epoch 10/10\n",
            "516/516 [==============================] - 1s 2ms/step - loss: 0.3012\n",
            "129/129 [==============================] - 0s 2ms/step\n",
            "Neural Network Mean Squared Error: 0.3035605144700575\n"
          ]
        }
      ],
      "source": [
        "# Import necessary libraries\n",
        "import numpy as np\n",
        "import pandas as pd\n",
        "from sklearn.datasets import fetch_california_housing\n",
        "\n",
        "from sklearn.model_selection import train_test_split\n",
        "from sklearn.preprocessing import StandardScaler\n",
        "from sklearn.linear_model import LinearRegression\n",
        "from sklearn.metrics import mean_squared_error\n",
        "from sklearn import metrics\n",
        "import tensorflow as tf\n",
        "from tensorflow.keras.models import Sequential\n",
        "from tensorflow.keras.layers import Dense\n",
        "\n",
        "# Load the Boston Housing dataset\n",
        "boston = fetch_california_housing()\n",
        "data = pd.DataFrame(boston.data, columns=boston.feature_names)\n",
        "data['target'] = boston.target\n",
        "\n",
        "# Assume the target variable is 'target'\n",
        "X = data.drop('target', axis=1)\n",
        "y = data['target']\n",
        "\n",
        "# Split the data into training and testing sets\n",
        "X_train, X_test, y_train, y_test = train_test_split(X, y, test_size=0.2, random_state=42)\n",
        "\n",
        "# Standardize the data\n",
        "scaler = StandardScaler()\n",
        "X_train = scaler.fit_transform(X_train)\n",
        "X_test = scaler.transform(X_test)\n",
        "\n",
        "# Linear Regression Model\n",
        "model_lr = LinearRegression()\n",
        "model_lr.fit(X_train, y_train)\n",
        "\n",
        "# Make predictions on the test set\n",
        "y_pred_lr = model_lr.predict(X_test)\n",
        "\n",
        "# Evaluate the model\n",
        "mse_lr = mean_squared_error(y_test, y_pred_lr)\n",
        "print(f'Linear Regression Mean Squared Error: {mse_lr}')\n",
        "\n",
        "# Neural Network Model\n",
        "model_nn = Sequential()\n",
        "model_nn.add(Dense(64, activation='relu', input_dim=X_train.shape[1]))\n",
        "model_nn.add(Dense(32, activation='relu'))\n",
        "model_nn.add(Dense(1, activation='linear'))\n",
        "\n",
        "# Compile the model\n",
        "model_nn.compile(optimizer='adam', loss='mean_squared_error')\n",
        "\n",
        "# Train the model\n",
        "model_nn.fit(X_train, y_train, epochs=10, batch_size=32, verbose=1)\n",
        "\n",
        "# Make predictions on the test set\n",
        "y_pred_nn = model_nn.predict(X_test).flatten()\n",
        "\n",
        "# Evaluate the model\n",
        "mse_nn = mean_squared_error(y_test, y_pred_nn)\n",
        "print(f'Neural Network Mean Squared Error: {mse_nn}')\n"
      ]
    },
    {
      "cell_type": "code",
      "source": [
        "from sklearn.metrics import r2_score\n",
        "\n",
        "# Calculate R-squared for Linear Regression\n",
        "r2_lr = r2_score(y_test, y_pred_lr)\n",
        "print(f'Linear Regression R-squared: {r2_lr}')\n",
        "\n",
        "# Calculate R-squared for Neural Network\n",
        "r2_nn = r2_score(y_test, y_pred_nn)\n",
        "print(f'Neural Network R-squared: {r2_nn}')\n"
      ],
      "metadata": {
        "colab": {
          "base_uri": "https://localhost:8080/"
        },
        "id": "96RAgH7Dn4YA",
        "outputId": "50a145ba-f735-4a14-800c-bfa7fa0fd6f3"
      },
      "execution_count": 6,
      "outputs": [
        {
          "output_type": "stream",
          "name": "stdout",
          "text": [
            "Linear Regression R-squared: 0.575787706032451\n",
            "Neural Network R-squared: 0.7683467379187535\n"
          ]
        }
      ]
    },
    {
      "cell_type": "code",
      "source": [],
      "metadata": {
        "id": "_8i_8e8XnYR2"
      },
      "execution_count": null,
      "outputs": []
    }
  ]
}